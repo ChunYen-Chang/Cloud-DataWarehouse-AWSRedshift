{
 "cells": [
  {
   "cell_type": "markdown",
   "metadata": {},
   "source": [
    "--------"
   ]
  },
  {
   "cell_type": "markdown",
   "metadata": {},
   "source": [
    "# PART1: STAGING TABLES"
   ]
  },
  {
   "cell_type": "markdown",
   "metadata": {},
   "source": [
    "## This part is about:\n",
    "#### 1. how to creata staging table in Redshift\n",
    "#### 2. how to move data from AWS S3 to these staging table\n",
    "#### 3. test whether we can access the data from these staging table or not."
   ]
  },
  {
   "cell_type": "code",
   "execution_count": 1,
   "metadata": {},
   "outputs": [],
   "source": [
    "# import the needed packages \n",
    "import configparser\n",
    "import psycopg2"
   ]
  },
  {
   "cell_type": "code",
   "execution_count": 62,
   "metadata": {},
   "outputs": [
    {
     "data": {
      "text/plain": [
       "['dwh.cfg']"
      ]
     },
     "execution_count": 62,
     "metadata": {},
     "output_type": "execute_result"
    }
   ],
   "source": [
    "# read the contect which can help us to access to Redshift\n",
    "config = configparser.ConfigParser()\n",
    "config.read('dwh.cfg')"
   ]
  },
  {
   "cell_type": "code",
   "execution_count": 63,
   "metadata": {},
   "outputs": [],
   "source": [
    "# create the connection and create the schema\n",
    "conn = psycopg2.connect(\"host={} dbname={} user={} password={} port={}\".format(*config['CLUSTER'].values()))\n",
    "cur = conn.cursor()\n",
    "cur.execute('SET search_path TO Sparkify')"
   ]
  },
  {
   "cell_type": "code",
   "execution_count": 4,
   "metadata": {},
   "outputs": [],
   "source": [
    "# drop staging tables (if they exist)\n",
    "staging_songs_table_drop = 'DROP TABLE IF EXISTS \"staging_songs_table\"'\n",
    "staging_events_table_drop = 'DROP TABLE IF EXISTS \"staging_events_table\"'\n",
    "\n",
    "cur.execute(staging_songs_table_drop)\n",
    "cur.execute(staging_events_table_drop)"
   ]
  },
  {
   "cell_type": "code",
   "execution_count": 5,
   "metadata": {},
   "outputs": [],
   "source": [
    "# define the SQL syntax of creating staging tables and create staging tables in Redshift \n",
    "staging_events_table_create= (\"\"\"\n",
    "    CREATE TABLE \"staging_events_table\" (\n",
    "    \"artist\" varchar(max),\n",
    "    \"auth\" varchar(10),\n",
    "    \"firstName\" varchar(max),\n",
    "    \"gender\" varchar(10),\n",
    "    \"iteminSession\" int,\n",
    "    \"lastName\" varchar(max),\n",
    "    \"length\" double precision,\n",
    "    \"level\" varchar(10),\n",
    "    \"location\" varchar(max),\n",
    "    \"method\" varchar(10),\n",
    "    \"page\" varchar(max),\n",
    "    \"registration\"bigint,\n",
    "    \"sessionId\" int,\n",
    "    \"song\" varchar(max),\n",
    "    \"status\" int,\n",
    "    \"ts\" bigint,\n",
    "    \"userAgent\" varchar(max),\n",
    "    \"userId\" varchar(max));\n",
    "\"\"\")\n",
    "\n",
    "staging_songs_table_create = (\"\"\"\n",
    "    CREATE TABLE \"staging_songs_table\" (\n",
    "    \"num_songs\" int,\n",
    "    \"artist_id\" varchar(max),\n",
    "    \"artist_latitude\" varchar(max),\n",
    "    \"artist_longitude\" varchar(max),\n",
    "    \"artist_location\" varchar(max),\n",
    "    \"artist_name\" varchar(max),\n",
    "    \"song_id\" varchar(max),\n",
    "    \"title\" varchar(max),\n",
    "    \"duration\" double precision,\n",
    "    \"year\" int);\n",
    "\"\"\")\n",
    "\n",
    "# create staging tables\n",
    "cur.execute(staging_events_table_create)\n",
    "cur.execute(staging_songs_table_create)"
   ]
  },
  {
   "cell_type": "code",
   "execution_count": 8,
   "metadata": {},
   "outputs": [],
   "source": [
    "# do commit command\n",
    "conn.commit()"
   ]
  },
  {
   "cell_type": "code",
   "execution_count": 9,
   "metadata": {},
   "outputs": [],
   "source": [
    "# define the SQL syntax of moving data from S3 to staging tables \n",
    "staging_events_copy = (\"\"\"COPY staging_events_table \n",
    "                            from 's3://udacity-dend/log_data'\n",
    "                            credentials 'aws_iam_role=arn:aws:iam::582084574000:role/dwhRole'\n",
    "                            region 'us-west-2'\n",
    "                            JSON 's3://udacity-dend/log_json_path.json';\n",
    "                        \"\"\")\n",
    "\n",
    "staging_songs_copy = (\"\"\"COPY staging_songs_table \n",
    "                         from 's3://udacity-dend/song_data'\n",
    "                         credentials 'aws_iam_role=arn:aws:iam::582084574000:role/dwhRole'\n",
    "                         region 'us-west-2'\n",
    "                         JSON 'auto';\n",
    "                        \"\"\")\n",
    "\n",
    "# dmove data from S3 to staging tables \n",
    "cur.execute(staging_songs_copy)\n",
    "cur.execute(staging_events_copy)"
   ]
  },
  {
   "cell_type": "code",
   "execution_count": null,
   "metadata": {},
   "outputs": [],
   "source": [
    "# do commit command\n",
    "conn.commit()"
   ]
  },
  {
   "cell_type": "code",
   "execution_count": null,
   "metadata": {},
   "outputs": [],
   "source": [
    "# test whether we can access data from staging_events_table\n",
    "cur.execute(\"select * from staging_events_table\")\n",
    "rows=cur.fetchall()\n",
    "for row in rows:\n",
    "    print(row)"
   ]
  },
  {
   "cell_type": "code",
   "execution_count": null,
   "metadata": {},
   "outputs": [],
   "source": [
    "# test whether we can access data from staging_songs_table\n",
    "cur.execute(\"select * from staging_songs_table\")\n",
    "rows=cur.fetchall()\n",
    "for row in rows:\n",
    "    print(row)"
   ]
  },
  {
   "cell_type": "code",
   "execution_count": 13,
   "metadata": {},
   "outputs": [],
   "source": [
    "# do commit command\n",
    "conn.commit()"
   ]
  },
  {
   "cell_type": "code",
   "execution_count": 56,
   "metadata": {},
   "outputs": [],
   "source": [
    "# close the connection\n",
    "conn.close()"
   ]
  },
  {
   "cell_type": "markdown",
   "metadata": {},
   "source": [
    "-----"
   ]
  },
  {
   "cell_type": "markdown",
   "metadata": {},
   "source": [
    "# PART2: ANALYTICAL TABLES"
   ]
  },
  {
   "cell_type": "markdown",
   "metadata": {},
   "source": [
    "## This part is about:\n",
    "#### 1. how to creata analytical tables in Redshift\n",
    "#### 2. how to move data from staging tables to analytical tables\n",
    "#### 3. test whether we can access the data from these staging table or not."
   ]
  },
  {
   "cell_type": "code",
   "execution_count": 57,
   "metadata": {},
   "outputs": [],
   "source": [
    "# create the connection and create the schema\n",
    "conn = psycopg2.connect(\"host={} dbname={} user={} password={} port={}\".format(*config['CLUSTER'].values()))\n",
    "cur = conn.cursor()\n",
    "cur.execute('SET search_path TO Sparkify')"
   ]
  },
  {
   "cell_type": "code",
   "execution_count": 21,
   "metadata": {},
   "outputs": [],
   "source": [
    "# define the SQL syntax of dropping tables\n",
    "songplay_table_drop = 'DROP TABLE IF EXISTS \"songplay_table\"'\n",
    "user_table_drop = 'DROP TABLE IF EXISTS \"user_table\"'\n",
    "song_table_drop = 'DROP TABLE IF EXISTS \"song_table\"'\n",
    "artist_table_drop = 'DROP TABLE IF EXISTS \"artist_table\"'\n",
    "time_table_drop = 'DROP TABLE IF EXISTS \"time_table\"'\n",
    "timetemp_table_drop = 'DROP TABLE IF EXISTS \"timetemp\"'\n",
    "\n",
    "# drop tables (if they exist)\n",
    "cur.execute(songplay_table_drop)\n",
    "cur.execute(user_table_drop)\n",
    "cur.execute(song_table_drop)\n",
    "cur.execute(artist_table_drop)\n",
    "cur.execute(time_table_drop)\n",
    "cur.execute(timetemp_table_drop)"
   ]
  },
  {
   "cell_type": "code",
   "execution_count": 22,
   "metadata": {},
   "outputs": [],
   "source": [
    "# define the SQL syntax of creating analytical tables\n",
    "songplay_table_create = (\"\"\"\n",
    "    CREATE TABLE \"songplay_table\" (\n",
    "    \"songplay_id\" int identity(1,1) NOT NULL,\n",
    "    \"start_time\" varchar(max) sortkey,\n",
    "    \"user_id\" varchar(max),\n",
    "    \"level\" varchar(5),\n",
    "    \"song_id\" varchar(max),\n",
    "    \"artist_id\" varchar(max),\n",
    "    \"session_id\" int,\n",
    "    \"location\" varchar(max),\n",
    "    \"user_agent\" varchar(max),\n",
    "    PRIMARY KEY (songplay_id),\n",
    "    FOREIGN KEY (start_time) REFERENCES time_table (start_time),\n",
    "    FOREIGN KEY (user_id) REFERENCES user_table (user_id),\n",
    "    FOREIGN KEY (song_id) REFERENCES song_table (song_id),\n",
    "    FOREIGN KEY (artist_id) REFERENCES artist_table (artist_id))\n",
    "    diststyle even;\n",
    "\"\"\")\n",
    "\n",
    "\n",
    "user_table_create = (\"\"\"\n",
    "    CREATE TABLE \"user_table\" (\n",
    "    \"user_id\" varchar(max) sortkey NOT NULL,\n",
    "    \"first_name\" varchar(max),\n",
    "    \"last_name\" varchar(max),\n",
    "    \"gender\" varchar(5),\n",
    "    \"level\" varchar(5),\n",
    "    PRIMARY KEY (user_id))\n",
    "    diststyle all;\n",
    "\"\"\")\n",
    "\n",
    "\n",
    "song_table_create = (\"\"\"\n",
    "    CREATE TABLE \"song_table\" (\n",
    "    \"song_id\" varchar(max) sortkey NOT NULL,\n",
    "    \"title\" varchar(max),\n",
    "    \"artist_id\" varchar(max),\n",
    "    \"year\" int,\n",
    "    \"duration\" double precision,\n",
    "    PRIMARY KEY (song_id))\n",
    "    diststyle all;\n",
    "\"\"\")\n",
    "\n",
    "\n",
    "artist_table_create = (\"\"\"\n",
    "    CREATE TABLE \"artist_table\" (\n",
    "    \"artist_id\" varchar(max) sortkey NOT NULL,\n",
    "    \"name\" varchar(max),\n",
    "    \"location\" varchar(max),\n",
    "    \"latitude\" varchar(max),\n",
    "    \"longitude\" varchar(max),\n",
    "    PRIMARY KEY (artist_id))\n",
    "    diststyle all;\n",
    "\"\"\")\n",
    "\n",
    "\n",
    "time_table_create = (\"\"\"\n",
    "    CREATE TABLE \"time_table\" (\n",
    "    \"start_time\" varchar(max) sortkey NOT NULL,\n",
    "    \"hour\" varchar(max) NOT NULL,\n",
    "    \"day\" varchar(max) NOT NULL,\n",
    "    \"week\" varchar(max) NOT NULL,\n",
    "    \"month\" varchar(max) NOT NULL,\n",
    "    \"year\" varchar(max) NOT NULL,\n",
    "    \"weekday\" varchar(max) NOT NULL,\n",
    "    PRIMARY KEY (start_time))\n",
    "    diststyle all;\n",
    "\"\"\")\n"
   ]
  },
  {
   "cell_type": "code",
   "execution_count": 23,
   "metadata": {},
   "outputs": [],
   "source": [
    "# create analytical tables\n",
    "cur.execute(user_table_create)\n",
    "cur.execute(song_table_create)\n",
    "cur.execute(artist_table_create)\n",
    "cur.execute(time_table_create)\n",
    "cur.execute(songplay_table_create)"
   ]
  },
  {
   "cell_type": "code",
   "execution_count": 24,
   "metadata": {},
   "outputs": [],
   "source": [
    "# do commit command\n",
    "conn.commit()"
   ]
  },
  {
   "cell_type": "code",
   "execution_count": 25,
   "metadata": {},
   "outputs": [],
   "source": [
    "# create a timetemp table, this table is a temporary table which is used for saving the \n",
    "# transformed ts data from staging_events_table (in timestamp format). This data will be\n",
    "# used for inserting data to time_table (extract data from this table and put into time\n",
    "# table)\n",
    "cur.execute(\"\"\"create table timetemp as \n",
    "        SELECT DISTINCT TIMESTAMP 'epoch' + ts/1000 * interval '1 second' AS time\n",
    "        FROM staging_events_table\n",
    "        \"\"\")"
   ]
  },
  {
   "cell_type": "code",
   "execution_count": 26,
   "metadata": {},
   "outputs": [],
   "source": [
    "# do commit command\n",
    "conn.commit()"
   ]
  },
  {
   "cell_type": "code",
   "execution_count": null,
   "metadata": {},
   "outputs": [],
   "source": [
    "# check whether we can access data from timetemp or not\n",
    "cur.execute(\"select * from timetemp\")\n",
    "rows=cur.fetchall()\n",
    "for row in rows:\n",
    "    print(row)"
   ]
  },
  {
   "cell_type": "code",
   "execution_count": 28,
   "metadata": {},
   "outputs": [],
   "source": [
    "# define the SQL syntax of inserting data into time table\n",
    "time_table_insert = (\"\"\"\n",
    "INSERT INTO time_table (start_time, hour, day, week, month, year, weekday)\n",
    "SELECT time AS start_time,\n",
    "    EXTRACT(hour FROM time) AS hour,\n",
    "    EXTRACT(day FROM time) AS day,\n",
    "    EXTRACT(week FROM time) AS week,\n",
    "    EXTRACT(month FROM time) AS month,\n",
    "    EXTRACT(year FROM time) AS year,\n",
    "    EXTRACT(dow FROM time) AS weekday\n",
    "FROM timetemp;\n",
    "\"\"\")\n",
    "\n",
    "# insert data into time table\n",
    "cur.execute(time_table_insert)"
   ]
  },
  {
   "cell_type": "code",
   "execution_count": null,
   "metadata": {},
   "outputs": [],
   "source": [
    "# check whether we can access data from time_table or not\n",
    "cur.execute(\"select * from time_table\")\n",
    "rows=cur.fetchall()\n",
    "for row in rows:\n",
    "    print(row)"
   ]
  },
  {
   "cell_type": "code",
   "execution_count": 31,
   "metadata": {},
   "outputs": [],
   "source": [
    "# define the SQL syntax of inserting data into artist_table\n",
    "artist_table_insert = (\"\"\"\n",
    "INSERT INTO artist_table (artist_id, name, location, latitude, longitude)\n",
    "SELECT DISTINCT artist_id AS artist_id,\n",
    "       artist_name AS name,\n",
    "       artist_location AS location,\n",
    "       artist_latitude AS latitude,\n",
    "       artist_longitude AS longitude\n",
    "FROM staging_songs_table;\n",
    "\"\"\")\n",
    "\n",
    "# insert data into artist_table\n",
    "cur.execute(artist_table_insert)"
   ]
  },
  {
   "cell_type": "code",
   "execution_count": null,
   "metadata": {},
   "outputs": [],
   "source": [
    "# check whether we can access data from artist_table or not\n",
    "cur.execute(\"select * from artist_table\")\n",
    "rows=cur.fetchall()\n",
    "for row in rows:\n",
    "    print(row)"
   ]
  },
  {
   "cell_type": "code",
   "execution_count": 32,
   "metadata": {},
   "outputs": [],
   "source": [
    "# define the SQL syntax of inserting data into song_table\n",
    "song_table_insert = (\"\"\"\n",
    "INSERT INTO song_table (song_id, title, artist_id, year, duration)\n",
    "SELECT DISTINCT song_id AS song_id,\n",
    "       title AS title,\n",
    "       artist_id AS artist_id,\n",
    "       year AS year,\n",
    "       duration AS duration\n",
    "FROM staging_songs_table;\n",
    "\"\"\")\n",
    "\n",
    "# insert data into song_table\n",
    "cur.execute(song_table_insert)"
   ]
  },
  {
   "cell_type": "code",
   "execution_count": null,
   "metadata": {},
   "outputs": [],
   "source": [
    "# check whether we can access data from song_table or not\n",
    "cur.execute(\"select * from song_table\")\n",
    "rows=cur.fetchall()\n",
    "for row in rows:\n",
    "    print(row)"
   ]
  },
  {
   "cell_type": "code",
   "execution_count": 35,
   "metadata": {},
   "outputs": [],
   "source": [
    "# define the SQL syntax of inserting data into user_table\n",
    "user_table_insert = (\"\"\"\n",
    "INSERT INTO user_table (user_id, first_name, last_name, gender, level)\n",
    "SELECT DISTINCT userId AS user_id,\n",
    "       firstName AS first_name,\n",
    "       lastName AS last_name,\n",
    "       gender AS gender,\n",
    "       level AS level\n",
    "FROM staging_events_table;\n",
    "\"\"\")\n",
    "\n",
    "# insert data into user_table\n",
    "cur.execute(user_table_insert)"
   ]
  },
  {
   "cell_type": "code",
   "execution_count": null,
   "metadata": {},
   "outputs": [],
   "source": [
    "# check whether we can access data from user_table or not\n",
    "cur.execute(\"select * from user_table\")\n",
    "rows=cur.fetchall()\n",
    "for row in rows:\n",
    "    print(row)"
   ]
  },
  {
   "cell_type": "code",
   "execution_count": 38,
   "metadata": {},
   "outputs": [],
   "source": [
    "# define the SQL syntax of inserting data into songplay_table\n",
    "songplay_table_insert = (\"\"\"\n",
    "INSERT INTO songplay_table (start_time, user_id, level, song_id, artist_id, session_id, location, user_agent)\n",
    "SELECT TIMESTAMP 'epoch' + e.ts/1000 * interval '1 second' AS start_time,\n",
    "       e.userId AS user_id,\n",
    "       e.level AS level,\n",
    "       s.song_id AS song_id,\n",
    "       s.artist_id AS artist_id,\n",
    "       e.sessionId AS session_id,\n",
    "       s.artist_location AS location,\n",
    "       e.userAgent AS user_agent\n",
    "FROM staging_events_table e\n",
    "JOIN staging_songs_table s\n",
    "on \n",
    "(e.artist = s.artist_name \n",
    "AND e.song = s.title\n",
    "AND e.length = s.duration)\n",
    "WHERE e.page = 'NextSong';\n",
    "\"\"\")\n",
    "\n",
    "# insert data into songplay_table\n",
    "cur.execute(songplay_table_insert)"
   ]
  },
  {
   "cell_type": "code",
   "execution_count": null,
   "metadata": {},
   "outputs": [],
   "source": [
    "# check whether we can access data from songplay_table or not\n",
    "cur.execute(\"select * from songplay_table\")\n",
    "rows=cur.fetchall()\n",
    "for row in rows:\n",
    "    print(row)"
   ]
  },
  {
   "cell_type": "code",
   "execution_count": 41,
   "metadata": {},
   "outputs": [],
   "source": [
    "# do commit command\n",
    "conn.commit()"
   ]
  },
  {
   "cell_type": "code",
   "execution_count": 42,
   "metadata": {},
   "outputs": [],
   "source": [
    "# close the connection\n",
    "conn.close()"
   ]
  }
 ],
 "metadata": {
  "kernelspec": {
   "display_name": "Python 3",
   "language": "python",
   "name": "python3"
  },
  "language_info": {
   "codemirror_mode": {
    "name": "ipython",
    "version": 3
   },
   "file_extension": ".py",
   "mimetype": "text/x-python",
   "name": "python",
   "nbconvert_exporter": "python",
   "pygments_lexer": "ipython3",
   "version": "3.6.3"
  }
 },
 "nbformat": 4,
 "nbformat_minor": 2
}
